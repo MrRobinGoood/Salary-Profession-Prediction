{
 "cells": [
  {
   "cell_type": "code",
   "execution_count": 1,
   "metadata": {},
   "outputs": [],
   "source": [
    "import pandas as pd\n",
    "from catboost import CatBoostRegressor, Pool\n",
    "import joblib"
   ]
  },
  {
   "cell_type": "code",
   "execution_count": 7,
   "metadata": {},
   "outputs": [],
   "source": [
    "def predict_salaries(input_csv_path, model_path, output_csv_path):\n",
    "    # Загрузка обученной модели\n",
    "    model = joblib.load(model_path)\n",
    "\n",
    "    # Загрузка данных из CSV файла\n",
    "    data = pd.read_csv(input_csv_path, low_memory=False)\n",
    "    data = data.fillna(\"\")\n",
    "\n",
    "    # Отбор нужных столбцов\n",
    "    data = data[['id', 'academic_degree', 'accommodation_capability', 'additional_requirements',\n",
    "                 'busy_type', 'career_perspective', 'education', 'education_speciality', \n",
    "                 'is_mobility_program', 'need_medcard', 'other_vacancy_benefit', \n",
    "                 'position_requirements', 'position_responsibilities', 'regionName', \n",
    "                 'regionNameTerm', 'company_business_size', 'required_certificates', \n",
    "                 'required_drive_license', 'required_experience',  'schedule_type', 'professionalSphereName', \n",
    "                 'languageKnowledge', 'hardSkills', 'softSkills']]\n",
    "\n",
    "    # Удаляем ненужные столбцы для предсказания\n",
    "    useless_columns = ['id', 'salary']  # Убедитесь, что 'salary' удален, если он уже есть\n",
    "    X = data.drop(columns=useless_columns, errors='ignore')\n",
    "\n",
    "    # Определяем категориальные признаки\n",
    "    categorical_features = [col for col in X.columns if X[col].dtype == 'object']\n",
    "\n",
    "    # Обработка категориальных данных\n",
    "    for feature in categorical_features:\n",
    "        X[feature] = X[feature].astype(str).fillna('missing')\n",
    "\n",
    "    # Преобразуем все числовые колонки в числовой формат, заменяя пропуски\n",
    "    for col in X.columns:\n",
    "        if col not in categorical_features:\n",
    "            X[col] = pd.to_numeric(X[col], errors='coerce').fillna(-1)\n",
    "\n",
    "    # Предсказание заработной платы\n",
    "    y_pred = model.predict(X)\n",
    "\n",
    "    # Добавляем предсказанные значения в новый столбец \"salary\"\n",
    "    data['salary'] = y_pred\n",
    "\n",
    "    # Сохранение обновленного набора данных в новый CSV файл\n",
    "    data.to_csv(output_csv_path, index=False)"
   ]
  },
  {
   "cell_type": "code",
   "execution_count": 8,
   "metadata": {},
   "outputs": [],
   "source": [
    "predict_salaries(\"TEST_SAL.csv\", \"catboost_model.joblib\", \"sample_sumbision.csv\")"
   ]
  }
 ],
 "metadata": {
  "kernelspec": {
   "display_name": "Python 3",
   "language": "python",
   "name": "python3"
  },
  "language_info": {
   "codemirror_mode": {
    "name": "ipython",
    "version": 3
   },
   "file_extension": ".py",
   "mimetype": "text/x-python",
   "name": "python",
   "nbconvert_exporter": "python",
   "pygments_lexer": "ipython3",
   "version": "3.11.0"
  }
 },
 "nbformat": 4,
 "nbformat_minor": 2
}
