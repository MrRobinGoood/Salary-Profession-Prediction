{
 "cells": [
  {
   "cell_type": "code",
   "execution_count": 1,
   "metadata": {},
   "outputs": [],
   "source": [
    "import pandas as pd\n",
    "from catboost import CatBoostRegressor, Pool\n",
    "import joblib\n",
    "import numpy as np"
   ]
  },
  {
   "cell_type": "code",
   "execution_count": 2,
   "metadata": {},
   "outputs": [],
   "source": [
    "# Загрузка и подготовка данных\n",
    "data = pd.read_csv(\"clear_data_fin.csv\", low_memory=False)\n",
    "#Заполнение NaN пустой строкой\n",
    "data = data.fillna(\"\")"
   ]
  },
  {
   "cell_type": "code",
   "execution_count": 3,
   "metadata": {},
   "outputs": [],
   "source": [
    "# Отбор нужных столбцов\n",
    "data = data[['academic_degree','accommodation_capability', 'additional_requirements',\n",
    "             'busy_type','career_perspective', 'education', 'education_speciality', 'is_mobility_program',\n",
    "             'need_medcard', 'other_vacancy_benefit', 'position_requirements', 'position_responsibilities',\n",
    "             'regionName', 'regionNameTerm', 'company_business_size', 'required_certificates',\n",
    "             'required_drive_license', 'required_experience', 'salary', 'schedule_type',\n",
    "             'professionalSphereName', 'languageKnowledge', 'hardSkills', 'softSkills']]"
   ]
  },
  {
   "cell_type": "code",
   "execution_count": 4,
   "metadata": {},
   "outputs": [],
   "source": [
    "# Определяем целевую переменную\n",
    "y = pd.to_numeric(data['salary'], errors='coerce')\n",
    "\n",
    "# Удаляем ненужные столбцы из признаков\n",
    "useless_columns = ['salary']\n",
    "X = data.drop(columns=useless_columns, errors='ignore')"
   ]
  },
  {
   "cell_type": "code",
   "execution_count": 6,
   "metadata": {},
   "outputs": [],
   "source": [
    "# Определяем категориальные признаки\n",
    "categorical_features = [col for col in X.columns if X[col].dtype == 'object']\n",
    "\n",
    "# Обработка категориальных данных\n",
    "for feature in categorical_features:\n",
    "    X[feature] = X[feature].astype(str).fillna('missing')\n",
    "\n",
    "# Преобразуем все числовые колонки в числовой формат, заменяя пропуски\n",
    "for col in X.columns:\n",
    "    if col not in categorical_features:\n",
    "        X[col] = pd.to_numeric(X[col], errors='coerce').fillna(-1)"
   ]
  },
  {
   "cell_type": "code",
   "execution_count": 7,
   "metadata": {},
   "outputs": [
    {
     "name": "stdout",
     "output_type": "stream",
     "text": [
      "0:\tlearn: 24018.0606754\ttotal: 112ms\tremaining: 1m 29s\n",
      "100:\tlearn: 17843.2550698\ttotal: 7.96s\tremaining: 55.1s\n",
      "200:\tlearn: 17313.6297857\ttotal: 15.9s\tremaining: 47.3s\n",
      "300:\tlearn: 17017.9313238\ttotal: 23.9s\tremaining: 39.7s\n",
      "400:\tlearn: 16809.5044282\ttotal: 32s\tremaining: 31.9s\n",
      "500:\tlearn: 16627.2291707\ttotal: 40.1s\tremaining: 24s\n",
      "600:\tlearn: 16468.9071301\ttotal: 48.6s\tremaining: 16.1s\n",
      "700:\tlearn: 16354.1240704\ttotal: 56.9s\tremaining: 8.04s\n",
      "799:\tlearn: 16238.6508214\ttotal: 1m 5s\tremaining: 0us\n"
     ]
    },
    {
     "data": {
      "text/plain": [
       "<catboost.core.CatBoostRegressor at 0x1e05e6bc050>"
      ]
     },
     "execution_count": 7,
     "metadata": {},
     "output_type": "execute_result"
    }
   ],
   "source": [
    "# Обучение модели на 100% данных\n",
    "train_pool = Pool(data=X, label=y, cat_features=categorical_features)\n",
    "\n",
    "model = CatBoostRegressor(iterations=800, learning_rate=0.05, depth=10, task_type='GPU', verbose=100)\n",
    "model.fit(train_pool)"
   ]
  },
  {
   "cell_type": "code",
   "execution_count": 8,
   "metadata": {},
   "outputs": [
    {
     "data": {
      "text/plain": [
       "['catboost_model.joblib']"
      ]
     },
     "execution_count": 8,
     "metadata": {},
     "output_type": "execute_result"
    }
   ],
   "source": [
    "# Сохранение модели в файл\n",
    "joblib.dump(model, 'catboost_model.joblib')"
   ]
  }
 ],
 "metadata": {
  "kernelspec": {
   "display_name": "Python 3",
   "language": "python",
   "name": "python3"
  },
  "language_info": {
   "codemirror_mode": {
    "name": "ipython",
    "version": 3
   },
   "file_extension": ".py",
   "mimetype": "text/x-python",
   "name": "python",
   "nbconvert_exporter": "python",
   "pygments_lexer": "ipython3",
   "version": "3.11.0"
  }
 },
 "nbformat": 4,
 "nbformat_minor": 2
}
