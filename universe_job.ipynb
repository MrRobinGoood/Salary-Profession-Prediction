{
 "cells": [
  {
   "cell_type": "code",
   "execution_count": null,
   "id": "88d55ead-5a7c-449b-a08f-6a9198716359",
   "metadata": {},
   "outputs": [],
   "source": [
    "generation_config = GenerationConfig.from_pretrained(MODEL_NAME)\n",
    "\n",
    "DEFAULT_SYSTEM_PROMPT = \"Тебе передают название профессии и список профессий. Если в списке есть эта профессия в исходном виде или перефразированная, то ты возвращаешь название профессии из списка. Если профессии в списке нет, откорректируй название профессии и верни его\" \\\n",
    "\"\\nПримеры: [Запрос] Список:Старший геолог.Профессия:Сташий геолог\" \\\n",
    "\"\\n[Ответ] Старший геолог\" \\\n",
    "\"\\n[Запрос] Список:Старший геолог.Профессия:Младший геолог\" \\\n",
    "\"\\n[Ответ] Младший геолог\" \\\n",
    "\"\\n[Запрос] Список:.Профессия:hr\" \\\n",
    "\"\\n[Ответ] hr-менеджер\" \\\n",
    "\"\\n[Запрос] Список:hr-менеджер.Профессия:hr\" \\\n",
    "\"\\n[Ответ] hr-менеджер\" \\\n",
    "\"\\n[Запрос] Список:директор, заместитель директора.Профессия:помощник директора\" \\\n",
    "\"\\n[Ответ] помощник директора\" \\\n",
    "\"\\n[Запрос] Список:Геолог 1 разряда.Профессия:Геолог первого разряда\" \\\n",
    "\"\\n[Ответ] Геолог 1 разряда\" \\\n",
    "\"\\n[Запрос] Список:Геолог 1 разряда.Профессия:Преподаватель папвапвап\" \\\n",
    "\"\\n[Ответ] Преподаватель\"\n",
    "\n",
    "job_list = []\n",
    "template = \"Список:{job_list}.Профессия:{job_title}\"\n",
    "for i in range(10):\n",
    "  job_title = input()\n",
    "  query = template.format(job_list=\",\".join(job_list), job_title=job_title)\n",
    "  prompt = tokenizer.apply_chat_template([{\n",
    "      \"role\": \"system\",\n",
    "      \"content\": DEFAULT_SYSTEM_PROMPT\n",
    "  }, {\n",
    "      \"role\": \"user\",\n",
    "      \"content\": query\n",
    "  }], tokenize=False, add_generation_prompt=True)\n",
    "  data = tokenizer(prompt, return_tensors=\"pt\", add_special_tokens=False)\n",
    "  data = {k: v.to(model.device) for k, v in data.items()}\n",
    "  output_ids = model.generate(**data, generation_config=generation_config)[0]\n",
    "  output_ids = output_ids[len(data[\"input_ids\"][0]):]\n",
    "  output = tokenizer.decode(output_ids, skip_special_tokens=True).strip()\n",
    "  print(\"Запрос: \", query)\n",
    "  print(\"Ответ: \", output)\n",
    "  print()\n",
    "  print(\"==============================\")\n",
    "  print()\n",
    "  if output not in job_list:\n",
    "    job_list.append(output)"
   ]
  }
 ],
 "metadata": {
  "kernelspec": {
   "display_name": "",
   "name": ""
  },
  "language_info": {
   "name": ""
  }
 },
 "nbformat": 4,
 "nbformat_minor": 5
}
